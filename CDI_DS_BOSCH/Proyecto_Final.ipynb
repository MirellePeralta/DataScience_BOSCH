{
 "cells": [
  {
   "cell_type": "code",
   "execution_count": 38,
   "metadata": {},
   "outputs": [
    {
     "name": "stdout",
     "output_type": "stream",
     "text": [
      "fatal: la ruta de destino 'rapidsai-csp-utils' ya existe y no es un directorio vacío.\n",
      "zsh:1: command not found: python\n"
     ]
    }
   ],
   "source": [
    "#! git clone https://github.com/rapidsai/rapidsai-csp-utils.git"
   ]
  },
  {
   "cell_type": "code",
   "execution_count": 40,
   "metadata": {},
   "outputs": [],
   "source": [
    "#! python3 rapidsai-csp-utils/colab/pip-install.py"
   ]
  },
  {
   "cell_type": "code",
   "execution_count": 57,
   "metadata": {},
   "outputs": [],
   "source": [
    "#!wget https://datosabiertos.salud.gob.mx/gobmx/salud/datos_abiertos/datos_abiertos_covid19.zip"
   ]
  },
  {
   "cell_type": "code",
   "execution_count": 58,
   "metadata": {},
   "outputs": [],
   "source": [
    "#!unzip /Users/andrea.peralta/DataScience_BOSCH/CDI_DS_BOSCH/datos_abiertos_covid19.zip"
   ]
  },
  {
   "cell_type": "markdown",
   "metadata": {},
   "source": [
    "### Instalación de Bibliotecas"
   ]
  },
  {
   "cell_type": "code",
   "execution_count": 32,
   "metadata": {},
   "outputs": [],
   "source": [
    "#!pip install gradio\n",
    "#!pip install --upgrade typing-extensions\n",
    "#!pip install gradio --upgrade\n",
    "#!pip install --upgrade setuptools\n",
    "#!pip install pydotplus\n",
    "#!pip install scikit-learn"
   ]
  },
  {
   "cell_type": "markdown",
   "metadata": {},
   "source": [
    "### Importaciones de Bibliotecas\n",
    "En esta sección, se realizan las importaciones necesarias de bibliotecas para operaciones numéricas, manipulación de datos, configuración regional, generación de gráficos, y más. Las bibliotecas están organizadas y comentadas para facilitar la comprensión del código."
   ]
  },
  {
   "cell_type": "code",
   "execution_count": 23,
   "metadata": {},
   "outputs": [],
   "source": [
    "import warnings  # Gestión de advertencias\n",
    "warnings.filterwarnings(\"ignore\")  # Ignorar las advertencias"
   ]
  },
  {
   "cell_type": "code",
   "execution_count": 24,
   "metadata": {},
   "outputs": [],
   "source": [
    "# Operaciones numéricas y manipulación de datos\n",
    "import numpy as np\n",
    "import pandas as pd"
   ]
  },
  {
   "cell_type": "code",
   "execution_count": 27,
   "metadata": {},
   "outputs": [],
   "source": [
    "# Configuración regional y generación de gráficos\n",
    "import locale  # Configuración regional para manejo de formatos numéricos y de fecha\n",
    "import pydotplus  # Generación de gráficos de árboles de decisión\n",
    "from six import StringIO  # Manipulación de cadenas de texto en memoria"
   ]
  },
  {
   "cell_type": "code",
   "execution_count": 28,
   "metadata": {},
   "outputs": [],
   "source": [
    "# Interfaz de usuario interactiva\n",
    "import gradio as gr  # Biblioteca para crear interfaces de usuario interactivas"
   ]
  },
  {
   "cell_type": "code",
   "execution_count": 105,
   "metadata": {},
   "outputs": [],
   "source": [
    "# Aprendizaje automático y métricas\n",
    "from sklearn.preprocessing import LabelEncoder  # Codificación de etiquetas\n",
    "from sklearn.model_selection import train_test_split  # División de datos en conjuntos de entrenamiento y prueba\n",
    "from sklearn.ensemble import RandomForestClassifier  # Clasificador de bosques aleatorios\n",
    "from sklearn.metrics import classification_report  # Informe de clasificación\n",
    "from sklearn.neighbors import KNeighborsClassifier\n",
    "from sklearn.metrics import accuracy_score"
   ]
  },
  {
   "cell_type": "code",
   "execution_count": 61,
   "metadata": {},
   "outputs": [],
   "source": [
    "# Definición de una nueva función llamada getpreferredencoding\n",
    "def getpreferredencoding(do_setlocale=True):\n",
    "    # La nueva implementación siempre devuelve \"UTF-8\"\n",
    "    return \"UTF-8\"\n",
    "# Sobrescribe la función getpreferredencoding en el módulo locale con la nueva implementación definida anteriormente\n",
    "locale.getpreferredencoding = getpreferredencoding"
   ]
  },
  {
   "cell_type": "code",
   "execution_count": 62,
   "metadata": {},
   "outputs": [
    {
     "name": "stdout",
     "output_type": "stream",
     "text": [
      "<class 'pandas.core.frame.DataFrame'>\n",
      "RangeIndex: 1186694 entries, 0 to 1186693\n",
      "Data columns (total 40 columns):\n",
      " #   Column                 Non-Null Count    Dtype \n",
      "---  ------                 --------------    ----- \n",
      " 0   FECHA_ACTUALIZACION    1186694 non-null  object\n",
      " 1   ID_REGISTRO            1186694 non-null  object\n",
      " 2   ORIGEN                 1186694 non-null  int64 \n",
      " 3   SECTOR                 1186694 non-null  int64 \n",
      " 4   ENTIDAD_UM             1186694 non-null  int64 \n",
      " 5   SEXO                   1186694 non-null  int64 \n",
      " 6   ENTIDAD_NAC            1186694 non-null  int64 \n",
      " 7   ENTIDAD_RES            1186694 non-null  int64 \n",
      " 8   MUNICIPIO_RES          1186694 non-null  int64 \n",
      " 9   TIPO_PACIENTE          1186694 non-null  int64 \n",
      " 10  FECHA_INGRESO          1186694 non-null  object\n",
      " 11  FECHA_SINTOMAS         1186694 non-null  object\n",
      " 12  FECHA_DEF              1186694 non-null  object\n",
      " 13  INTUBADO               1186694 non-null  int64 \n",
      " 14  NEUMONIA               1186694 non-null  int64 \n",
      " 15  EDAD                   1186694 non-null  int64 \n",
      " 16  NACIONALIDAD           1186694 non-null  int64 \n",
      " 17  EMBARAZO               1186694 non-null  int64 \n",
      " 18  HABLA_LENGUA_INDIG     1186694 non-null  int64 \n",
      " 19  INDIGENA               1186694 non-null  int64 \n",
      " 20  DIABETES               1186694 non-null  int64 \n",
      " 21  EPOC                   1186694 non-null  int64 \n",
      " 22  ASMA                   1186694 non-null  int64 \n",
      " 23  INMUSUPR               1186694 non-null  int64 \n",
      " 24  HIPERTENSION           1186694 non-null  int64 \n",
      " 25  OTRA_COM               1186694 non-null  int64 \n",
      " 26  CARDIOVASCULAR         1186694 non-null  int64 \n",
      " 27  OBESIDAD               1186694 non-null  int64 \n",
      " 28  RENAL_CRONICA          1186694 non-null  int64 \n",
      " 29  TABAQUISMO             1186694 non-null  int64 \n",
      " 30  OTRO_CASO              1186694 non-null  int64 \n",
      " 31  TOMA_MUESTRA_LAB       1186694 non-null  int64 \n",
      " 32  RESULTADO_LAB          1186694 non-null  int64 \n",
      " 33  TOMA_MUESTRA_ANTIGENO  1186694 non-null  int64 \n",
      " 34  RESULTADO_ANTIGENO     1186694 non-null  int64 \n",
      " 35  CLASIFICACION_FINAL    1186694 non-null  int64 \n",
      " 36  MIGRANTE               1186694 non-null  int64 \n",
      " 37  PAIS_NACIONALIDAD      1186694 non-null  object\n",
      " 38  PAIS_ORIGEN            1186694 non-null  object\n",
      " 39  UCI                    1186694 non-null  int64 \n",
      "dtypes: int64(33), object(7)\n",
      "memory usage: 362.2+ MB\n"
     ]
    }
   ],
   "source": [
    "# Leer el archivo CSV 'COVID19MEXICO.csv' y almacenar los datos en un DataFrame llamado 'data'\n",
    "# data = pd.read_csv('COVID19MEXICO.csv', low_memory=False)\n",
    "# Mostrar información sobre el DataFrame, incluyendo el tipo de datos de cada columna y la memoria utilizada\n",
    "data.info()"
   ]
  },
  {
   "cell_type": "code",
   "execution_count": 63,
   "metadata": {},
   "outputs": [
    {
     "name": "stdout",
     "output_type": "stream",
     "text": [
      "Número de filas: 1186694\n",
      "Número de columnas: 40\n"
     ]
    }
   ],
   "source": [
    "# Obtener las dimensiones del DataFrame 'data'\n",
    "dimensiones = data.shape\n",
    "# Imprimir las dimensiones\n",
    "print(\"Número de filas:\", dimensiones[0])\n",
    "print(\"Número de columnas:\", dimensiones[1])\n"
   ]
  },
  {
   "cell_type": "code",
   "execution_count": 64,
   "metadata": {},
   "outputs": [
    {
     "name": "stdout",
     "output_type": "stream",
     "text": [
      "             ORIGEN        SECTOR    ENTIDAD_UM          SEXO   ENTIDAD_NAC  \\\n",
      "count  1.186694e+06  1.186694e+06  1.186694e+06  1.186694e+06  1.186694e+06   \n",
      "mean   1.692639e+00  7.030433e+00  1.453498e+01  1.411661e+00  1.534343e+01   \n",
      "std    4.614003e-01  3.830850e+00  7.798240e+00  4.921346e-01  9.505631e+00   \n",
      "min    1.000000e+00  1.000000e+00  1.000000e+00  1.000000e+00  1.000000e+00   \n",
      "25%    1.000000e+00  4.000000e+00  9.000000e+00  1.000000e+00  9.000000e+00   \n",
      "50%    2.000000e+00  4.000000e+00  1.300000e+01  1.000000e+00  1.400000e+01   \n",
      "75%    2.000000e+00  1.200000e+01  2.000000e+01  2.000000e+00  2.100000e+01   \n",
      "max    2.000000e+00  9.900000e+01  3.200000e+01  2.000000e+00  9.900000e+01   \n",
      "\n",
      "        ENTIDAD_RES  MUNICIPIO_RES  TIPO_PACIENTE      INTUBADO      NEUMONIA  \\\n",
      "count  1.186694e+06   1.186694e+06   1.186694e+06  1.186694e+06  1.186694e+06   \n",
      "mean   1.471309e+01   3.856584e+01   1.083214e+00  8.911062e+01  2.440521e+00   \n",
      "std    7.762377e+00   7.497106e+01   2.762048e-01  2.622312e+01  6.757076e+00   \n",
      "min    1.000000e+00   1.000000e+00   1.000000e+00  1.000000e+00  1.000000e+00   \n",
      "25%    9.000000e+00   7.000000e+00   1.000000e+00  9.700000e+01  2.000000e+00   \n",
      "50%    1.400000e+01   1.700000e+01   1.000000e+00  9.700000e+01  2.000000e+00   \n",
      "75%    2.000000e+01   4.400000e+01   1.000000e+00  9.700000e+01  2.000000e+00   \n",
      "max    3.200000e+01   9.990000e+02   2.000000e+00  9.900000e+01  9.900000e+01   \n",
      "\n",
      "       ...  RENAL_CRONICA    TABAQUISMO     OTRO_CASO  TOMA_MUESTRA_LAB  \\\n",
      "count  ...   1.186694e+06  1.186694e+06  1.186694e+06      1.186694e+06   \n",
      "mean   ...   2.076030e+00  2.051011e+00  3.407123e+00      1.806609e+00   \n",
      "std    ...   2.897062e+00  2.974038e+00  1.215743e+01      3.949571e-01   \n",
      "min    ...   1.000000e+00  1.000000e+00  1.000000e+00      1.000000e+00   \n",
      "25%    ...   2.000000e+00  2.000000e+00  2.000000e+00      2.000000e+00   \n",
      "50%    ...   2.000000e+00  2.000000e+00  2.000000e+00      2.000000e+00   \n",
      "75%    ...   2.000000e+00  2.000000e+00  2.000000e+00      2.000000e+00   \n",
      "max    ...   9.800000e+01  9.800000e+01  9.900000e+01      2.000000e+00   \n",
      "\n",
      "       RESULTADO_LAB  TOMA_MUESTRA_ANTIGENO  RESULTADO_ANTIGENO  \\\n",
      "count   1.186694e+06           1.186694e+06        1.186694e+06   \n",
      "mean    7.861505e+01           1.145288e+00        1.547294e+01   \n",
      "std     3.754819e+01           3.523908e-01        3.361594e+01   \n",
      "min     1.000000e+00           1.000000e+00        1.000000e+00   \n",
      "25%     9.700000e+01           1.000000e+00        1.000000e+00   \n",
      "50%     9.700000e+01           1.000000e+00        2.000000e+00   \n",
      "75%     9.700000e+01           1.000000e+00        2.000000e+00   \n",
      "max     9.700000e+01           2.000000e+00        9.700000e+01   \n",
      "\n",
      "       CLASIFICACION_FINAL      MIGRANTE           UCI  \n",
      "count         1.186694e+06  1.186694e+06  1.186694e+06  \n",
      "mean          5.487269e+00  9.866122e+01  8.911151e+01  \n",
      "std           1.916392e+00  5.734053e+00  2.622033e+01  \n",
      "min           1.000000e+00  1.000000e+00  1.000000e+00  \n",
      "25%           3.000000e+00  9.900000e+01  9.700000e+01  \n",
      "50%           7.000000e+00  9.900000e+01  9.700000e+01  \n",
      "75%           7.000000e+00  9.900000e+01  9.700000e+01  \n",
      "max           7.000000e+00  9.900000e+01  9.900000e+01  \n",
      "\n",
      "[8 rows x 33 columns]\n"
     ]
    }
   ],
   "source": [
    "# Utilizar la función describe() en el DataFrame 'data'\n",
    "descripcion_estadistica = data.describe()\n",
    "# Imprimir las estadísticas descriptivas\n",
    "print(descripcion_estadistica)\n"
   ]
  },
  {
   "cell_type": "code",
   "execution_count": 68,
   "metadata": {},
   "outputs": [],
   "source": [
    "# Copia el DataFrame original\n",
    "df=data"
   ]
  },
  {
   "cell_type": "markdown",
   "metadata": {},
   "source": [
    "A continuación eliminaremos secciones irrelevantes del DataFrame, en base a la cantidad de registros que contengan categorías específicas o sus significados."
   ]
  },
  {
   "cell_type": "markdown",
   "metadata": {},
   "source": [
    "#### Clasificación Final\n",
    "Identifica si el paciente es un caso de COVID-19 según el catálogo \"CLASIFICACION_FINAL\"."
   ]
  },
  {
   "cell_type": "code",
   "execution_count": 70,
   "metadata": {},
   "outputs": [
    {
     "data": {
      "text/plain": [
       "CLASIFICACION_FINAL\n",
       "7    692424\n",
       "3    419475\n",
       "6     64459\n",
       "1      7969\n",
       "5      2177\n",
       "4       164\n",
       "2        26\n",
       "Name: count, dtype: int64"
      ]
     },
     "execution_count": 70,
     "metadata": {},
     "output_type": "execute_result"
    }
   ],
   "source": [
    "df['CLASIFICACION_FINAL'].value_counts() # Proporciona la cantidad de veces que aparece cada valor único en la columna 'CLASIFICACION_FINAL'."
   ]
  },
  {
   "cell_type": "markdown",
   "metadata": {},
   "source": [
    "En el conjunto de datos, se destaca que las categorías 4, 2 y 5 de la columna \"CLASIFICACION_FINAL\" cuentan con una cantidad considerablemente menor de registros en comparación con las demás categorías. Tras un análisis detenido, se determina que estos valores carecen de relevancia debido a la naturaleza particular de estos casos y al contexto específico del análisis de datos relacionados con la clasificación de casos de COVID-19.\n",
    "\n",
    "**Naturaleza de los Casos:**\n",
    " - **Caso 2 (Confirmado por Comité de Dictaminación):** Relacionado con defunciones y situaciones específicas que involucran la toma de muestras o la validez de las mismas. En muchos análisis, los casos de defunción pueden tener características únicas y no contribuir significativamente a la identificación de patrones en datos más generales.\n",
    " - **Caso 4 (Inválido por Laboratorio) y Caso 5 (No Realizado por Laboratorio):** Indican situaciones donde la muestra de laboratorio no es válida o no se procesa. Estos casos pueden no contribuir de manera significativa a la comprensión del proceso de infección por COVID-19, ya que no proporcionan información directa sobre casos confirmados."
   ]
  },
  {
   "cell_type": "code",
   "execution_count": 71,
   "metadata": {},
   "outputs": [],
   "source": [
    "# Elimina filas donde la columna 'CLASIFICACION_FINAL' tiene valores 2, 4 o 5\n",
    "df = df[~df['CLASIFICACION_FINAL'].isin([2, 4, 5])]"
   ]
  },
  {
   "cell_type": "markdown",
   "metadata": {},
   "source": [
    "#### Columnas Específicas\n",
    "La eliminación de estas columnas se debe a varias razones:\n",
    " - **Redundancia o Identificación Única:** Columnas como 'ID_REGISTRO' son identificadores únicos para cada registro y no aportan información adicional relevante para el análisis.\n",
    " - **Información Geográfica Detallada:** Las columnas relacionadas con la entidad, municipio y país de origen pueden son demasiado detalladas para el alcance del análisis. A menos que se esté llevando a cabo un análisis específico centrado en la ubicación geográfica, la información más general es suficiente.\n",
    "- **Información Demográfica Específica:** 'HABLA_LENGUA_INDIG', 'INDIGENA' y 'NACIONALIDAD' no tienen un impacto directo en el estudio del COVID-19, por que el análisis se centra en patrones epidemiológicos generales."
   ]
  },
  {
   "cell_type": "code",
   "execution_count": 73,
   "metadata": {},
   "outputs": [
    {
     "name": "stdout",
     "output_type": "stream",
     "text": [
      "             SECTOR  MUNICIPIO_RES  HABLA_LENGUA_INDIG        ORIGEN  \\\n",
      "count  1.184327e+06   1.184327e+06        1.184327e+06  1.184327e+06   \n",
      "mean   7.027754e+00   3.853162e+01        6.205426e+00  1.692873e+00   \n",
      "std    3.830609e+00   7.484037e+01        1.977596e+01  4.613028e-01   \n",
      "min    1.000000e+00   1.000000e+00        1.000000e+00  1.000000e+00   \n",
      "25%    4.000000e+00   7.000000e+00        2.000000e+00  1.000000e+00   \n",
      "50%    4.000000e+00   1.700000e+01        2.000000e+00  2.000000e+00   \n",
      "75%    1.200000e+01   4.400000e+01        2.000000e+00  2.000000e+00   \n",
      "max    9.900000e+01   9.990000e+02        9.900000e+01  2.000000e+00   \n",
      "\n",
      "           INDIGENA    ENTIDAD_UM   ENTIDAD_NAC  NACIONALIDAD   ENTIDAD_RES  \n",
      "count  1.184327e+06  1.184327e+06  1.184327e+06  1.184327e+06  1.184327e+06  \n",
      "mean   6.088259e+00  1.453609e+01  1.534296e+01  1.004290e+00  1.471339e+01  \n",
      "std    1.951646e+01  7.798185e+00  9.502570e+00  6.535899e-02  7.762395e+00  \n",
      "min    1.000000e+00  1.000000e+00  1.000000e+00  1.000000e+00  1.000000e+00  \n",
      "25%    2.000000e+00  9.000000e+00  9.000000e+00  1.000000e+00  9.000000e+00  \n",
      "50%    2.000000e+00  1.300000e+01  1.400000e+01  1.000000e+00  1.400000e+01  \n",
      "75%    2.000000e+00  2.000000e+01  2.100000e+01  1.000000e+00  2.000000e+01  \n",
      "max    9.900000e+01  3.200000e+01  9.900000e+01  2.000000e+00  3.200000e+01  \n"
     ]
    }
   ],
   "source": [
    "# Estadísticas descriptivas antes de la eliminación\n",
    "print(df[['SECTOR','MUNICIPIO_RES','HABLA_LENGUA_INDIG','ID_REGISTRO','ORIGEN','PAIS_NACIONALIDAD','PAIS_ORIGEN','INDIGENA','ENTIDAD_UM','ENTIDAD_NAC','NACIONALIDAD','ENTIDAD_RES']].describe())"
   ]
  },
  {
   "cell_type": "code",
   "execution_count": 74,
   "metadata": {},
   "outputs": [],
   "source": [
    "# Elimina ciertas columnas del DataFrame\n",
    "columns_to_drop = ['SECTOR','MUNICIPIO_RES','HABLA_LENGUA_INDIG','ID_REGISTRO','ORIGEN','PAIS_NACIONALIDAD','PAIS_ORIGEN','INDIGENA','ENTIDAD_UM','ENTIDAD_NAC','NACIONALIDAD','ENTIDAD_RES']\n",
    "df = df.drop(columns=columns_to_drop)"
   ]
  },
  {
   "cell_type": "markdown",
   "metadata": {},
   "source": [
    "#### Fecha Síntomas\n",
    "Idenitifica la fecha en que inició la sintomatología del paciente.\n",
    "\n",
    "Se eliminan filas donde la columna 'FECHA_SINTOMAS' tiene valores 97, 98 o 99\n",
    "- **97** No Aplica\n",
    "- **98** Se Ignora\n",
    "- **99** No Especificado"
   ]
  },
  {
   "cell_type": "code",
   "execution_count": 76,
   "metadata": {},
   "outputs": [],
   "source": [
    "# Elimina filas donde la columna 'FECHA_SINTOMAS' tiene valores 97, 98 o 99\n",
    "df = df[~df['FECHA_SINTOMAS'].isin([97, 98, 99])]"
   ]
  },
  {
   "cell_type": "code",
   "execution_count": 78,
   "metadata": {},
   "outputs": [],
   "source": [
    "# Convierte columnas de fecha a objetos 'datetime'\n",
    "df['FECHA_ACTUALIZACION'] = pd.to_datetime(df['FECHA_ACTUALIZACION'])\n",
    "df['FECHA_INGRESO'] = pd.to_datetime(df['FECHA_INGRESO'])\n",
    "df['FECHA_SINTOMAS'] = pd.to_datetime(df['FECHA_SINTOMAS'])\n",
    "df['FECHA_DEF'] = pd.to_datetime(df['FECHA_DEF'], errors='coerce')\n",
    "\n",
    "# Convierte las columnas 'TIPO_PACIENTE' y 'SEXO' a etiquetas numéricas utilizando LabelEncoder de scikit-learn\n",
    "le = LabelEncoder()\n",
    "for col in ['TIPO_PACIENTE', 'SEXO']:\n",
    "    df[col] = le.fit_transform(df[col])\n",
    "\n",
    "# Crea nuevas características a partir de las fechas y calcula la diferencia en días\n",
    "df['DIAS_DEFUNCION'] = (df['FECHA_ACTUALIZACION'] - df['FECHA_DEF']).dt.days\n",
    "df['DIAS_HOSPITALIZACION'] = (df['FECHA_ACTUALIZACION'] - df['FECHA_INGRESO']).dt.days\n",
    "df['DIAS_SINTOMAS'] = (df['FECHA_ACTUALIZACION'] - df['FECHA_SINTOMAS']).dt.days"
   ]
  },
  {
   "cell_type": "code",
   "execution_count": 79,
   "metadata": {},
   "outputs": [],
   "source": [
    "# Ajusta valores negativos en 'DIAS_DEFUNCION' a 0\n",
    "df['DIAS_DEFUNCION'] = df['DIAS_DEFUNCION'].apply(lambda x: 0 if x < 0 else x)\n",
    "\n",
    "# Elimina columnas adicionales\n",
    "columns_to_drop_final = ['FECHA_ACTUALIZACION', 'FECHA_INGRESO', 'FECHA_SINTOMAS', 'FECHA_DEF', 'DIAS_DEFUNCION', 'MIGRANTE']\n",
    "df = df.drop(columns=columns_to_drop_final)"
   ]
  },
  {
   "cell_type": "code",
   "execution_count": 89,
   "metadata": {},
   "outputs": [],
   "source": [
    "# Divide el DataFrame en variables independientes (X) y la variable dependiente (y)\n",
    "X = df.drop(columns=['CLASIFICACION_FINAL'])\n",
    "Y = df['CLASIFICACION_FINAL']"
   ]
  },
  {
   "cell_type": "code",
   "execution_count": 100,
   "metadata": {},
   "outputs": [],
   "source": [
    "#Separamos los datos en conjunto de entrenamiento y validación\n",
    "X_train, X_test, y_train, y_test = train_test_split(X, y, test_size=0.5, random_state=55)"
   ]
  },
  {
   "cell_type": "code",
   "execution_count": 106,
   "metadata": {},
   "outputs": [
    {
     "name": "stdout",
     "output_type": "stream",
     "text": [
      "Modelo resultados para Random Forest usando scikit-learn\n",
      "              precision    recall  f1-score   support\n",
      "\n",
      "           1       0.15      0.04      0.06      3951\n",
      "           3       1.00      1.00      1.00    209997\n",
      "           6       0.97      0.98      0.97     32301\n",
      "           7       0.99      1.00      0.99    345915\n",
      "\n",
      "    accuracy                           0.99    592164\n",
      "   macro avg       0.78      0.75      0.76    592164\n",
      "weighted avg       0.99      0.99      0.99    592164\n",
      "\n",
      "Accuracy: 0.9907187873629603\n"
     ]
    }
   ],
   "source": [
    "# Crear instancia del clasificador Random Forest\n",
    "sklearn_RFC = RandomForestClassifier(random_state=55)\n",
    "\n",
    "# Entrenar y predecir utilizando scikit-learn\n",
    "sklearn_RFC.fit(X_train, y_train)\n",
    "y_pred_RFC = sklearn_RFC.predict(X_test)\n",
    "\n",
    "# Calcular e imprimir la precisión utilizando scikit-learn\n",
    "accuracy_RFC = accuracy_score(y_test, y_pred_RFC)\n",
    "print('Modelo resultados para Random Forest usando scikit-learn')\n",
    "print(classification_report(y_test, y_pred_RFC))\n",
    "print(f'Accuracy: {accuracy_RFC}')"
   ]
  },
  {
   "cell_type": "code",
   "execution_count": 108,
   "metadata": {},
   "outputs": [],
   "source": [
    "def getpreferredencoding(do_setlocale = True):\n",
    "    return \"UTF-8\"\n",
    "locale.getpreferredencoding = getpreferredencoding"
   ]
  },
  {
   "cell_type": "code",
   "execution_count": 117,
   "metadata": {},
   "outputs": [
    {
     "name": "stdout",
     "output_type": "stream",
     "text": [
      "Running on local URL:  http://127.0.0.1:7860\n",
      "Running on public URL: https://e76745cd1fb313e2c6.gradio.live\n",
      "\n",
      "This share link expires in 72 hours. For free permanent hosting and GPU upgrades, run `gradio deploy` from Terminal to deploy to Spaces (https://huggingface.co/spaces)\n"
     ]
    },
    {
     "data": {
      "text/html": [
       "<div><iframe src=\"https://e76745cd1fb313e2c6.gradio.live\" width=\"100%\" height=\"500\" allow=\"autoplay; camera; microphone; clipboard-read; clipboard-write;\" frameborder=\"0\" allowfullscreen></iframe></div>"
      ],
      "text/plain": [
       "<IPython.core.display.HTML object>"
      ]
     },
     "metadata": {},
     "output_type": "display_data"
    }
   ],
   "source": [
    "# Se debe definir `clf` antes de utilizar la función predict\n",
    "\n",
    "def predict(sexo, tipo_paciente, intubado, neumonia, edad, embarazo,\n",
    "             diabetes, epoc, asma, inmusupr,\n",
    "             hipertension, otra_com, cardiovascular, obesidad,\n",
    "             renal_cronica, tabaquismo, otro_caso, toma_muestra_lab,\n",
    "             resultado_lab, toma_muestra_antigeno, resultado_antigeno,\n",
    "             uci, dias_hospitalizacion, dias_sintomas):\n",
    "\n",
    "    # Crear un DataFrame con los valores de entrada\n",
    "    input_data = pd.DataFrame({\n",
    "        'SEXO': [sexo], 'TIPO_PACIENTE': [tipo_paciente], 'INTUBADO': [intubado], 'NEUMONIA': [neumonia],\n",
    "        'EDAD': [edad], 'EMBARAZO': [embarazo], 'DIABETES': [diabetes], 'EPOC': [epoc],\n",
    "        'ASMA': [asma], 'INMUSUPR': [inmusupr], 'HIPERTENSION': [hipertension],\n",
    "        'OTRA_COM': [otra_com], 'CARDIOVASCULAR': [cardiovascular], 'OBESIDAD': [obesidad],\n",
    "        'RENAL_CRONICA': [renal_cronica], 'TABAQUISMO': [tabaquismo], 'OTRO_CASO': [otro_caso],\n",
    "        'TOMA_MUESTRA_LAB': [toma_muestra_lab], 'RESULTADO_LAB': [resultado_lab],\n",
    "        'TOMA_MUESTRA_ANTIGENO': [toma_muestra_antigeno], 'RESULTADO_ANTIGENO': [resultado_antigeno],\n",
    "        'UCI': [uci], 'DIAS_HOSPITALIZACION': [dias_hospitalizacion],\n",
    "        'DIAS_SINTOMAS': [dias_sintomas]\n",
    "    })\n",
    "\n",
    "    prediction = clf.predict(input_data)\n",
    "    return prediction\n",
    "\n",
    "# Definir los controles de entrada\n",
    "inputs = [\n",
    "    gr.Radio(choices=['Sí', 'No'], label='Sexo'),\n",
    "    gr.Radio(choices=['Sí', 'No'], label='Tipo de Paciente'),\n",
    "    gr.Radio(choices=['Sí', 'No'], label='Intubado'),\n",
    "    gr.Radio(choices=['Sí', 'No'], label='Neumonía'),\n",
    "    gr.Slider(minimum=0, maximum=120, label='Edad'),\n",
    "    gr.Radio(choices=['Sí', 'No'], label='Embarazo'),\n",
    "    gr.Radio(choices=['Sí', 'No'], label='Diabetes'),\n",
    "    gr.Radio(choices=['Sí', 'No'], label='EPOC'),\n",
    "    gr.Radio(choices=['Sí', 'No'], label='Asma'),\n",
    "    gr.Radio(choices=['Sí', 'No'], label='Inmunosupresión'),\n",
    "    gr.Radio(choices=['Sí', 'No'], label='Hipertensión'),\n",
    "    gr.Radio(choices=['Sí', 'No'], label='Otra Comorbilidad'),\n",
    "    gr.Radio(choices=['Sí', 'No'], label='Cardiovascular'),\n",
    "    gr.Radio(choices=['Sí', 'No'], label='Obesidad'),\n",
    "    gr.Radio(choices=['Sí', 'No'], label='Enfermedad Renal Crónica'),\n",
    "    gr.Radio(choices=['Sí', 'No'], label='Tabaquismo'),\n",
    "    gr.Radio(choices=['Sí', 'No'], label='Contacto con otro caso'),\n",
    "    gr.Radio(choices=['Sí', 'No'], label='Toma de muestra de laboratorio'),\n",
    "    gr.Radio(choices=['Sí', 'No'], label='Resultado de laboratorio'),\n",
    "    gr.Radio(choices=['Sí', 'No'], label='Toma de muestra de antígeno'),\n",
    "    gr.Radio(choices=['Sí', 'No'], label='Resultado de antígeno'),\n",
    "    gr.Radio(choices=['Sí', 'No'], label='UCI'),\n",
    "    gr.Slider(minimum=0, maximum=30, label='Días de Hospitalización'),\n",
    "    gr.Slider(minimum=0, maximum=30, label='Días con Síntomas'),\n",
    "]\n",
    "\n",
    "# Definir el componente de salida\n",
    "outputs = gr.Textbox(label=\"Resultado de Clasificación\")\n",
    "\n",
    "# Crear la interfaz de Gradio\n",
    "demo = gr.Interface(fn=predict, inputs=inputs, outputs=outputs)\n",
    "\n",
    "# Ejecutar la aplicación web\n",
    "if __name__ == \"__main__\":\n",
    "    demo.launch(share=True)"
   ]
  }
 ],
 "metadata": {
  "kernelspec": {
   "display_name": "Python 3",
   "language": "python",
   "name": "python3"
  },
  "language_info": {
   "codemirror_mode": {
    "name": "ipython",
    "version": 3
   },
   "file_extension": ".py",
   "mimetype": "text/x-python",
   "name": "python",
   "nbconvert_exporter": "python",
   "pygments_lexer": "ipython3",
   "version": "3.11.5"
  }
 },
 "nbformat": 4,
 "nbformat_minor": 2
}
