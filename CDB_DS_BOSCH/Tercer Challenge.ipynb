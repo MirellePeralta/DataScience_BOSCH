{
 "cells": [
  {
   "cell_type": "markdown",
   "metadata": {},
   "source": [
    "# **Primer Actividad**\n",
    "Andrea Mirelle Peralta Ogaz"
   ]
  },
  {
   "cell_type": "code",
   "execution_count": 30,
   "metadata": {},
   "outputs": [],
   "source": [
    "import pandas as pd\n",
    "import datetime as dt\n",
    "import seaborn as sns\n",
    "import matplotlib.pyplot as plt"
   ]
  },
  {
   "cell_type": "code",
   "execution_count": 31,
   "metadata": {},
   "outputs": [],
   "source": [
    "# Cargando el dataset\n",
    "Data_3= '/Users/andrea.peralta/github-classroom/IA-Center-Python/ds-python-v5-exercises-MirellePeralta/Challenges/Data_3/airbnb.csv'"
   ]
  },
  {
   "cell_type": "code",
   "execution_count": 32,
   "metadata": {},
   "outputs": [
    {
     "data": {
      "text/html": [
       "<div>\n",
       "<style scoped>\n",
       "    .dataframe tbody tr th:only-of-type {\n",
       "        vertical-align: middle;\n",
       "    }\n",
       "\n",
       "    .dataframe tbody tr th {\n",
       "        vertical-align: top;\n",
       "    }\n",
       "\n",
       "    .dataframe thead th {\n",
       "        text-align: right;\n",
       "    }\n",
       "</style>\n",
       "<table border=\"1\" class=\"dataframe\">\n",
       "  <thead>\n",
       "    <tr style=\"text-align: right;\">\n",
       "      <th></th>\n",
       "      <th>listing_id</th>\n",
       "      <th>name</th>\n",
       "      <th>host_id</th>\n",
       "      <th>host_name</th>\n",
       "      <th>neighbourhood_full</th>\n",
       "      <th>coordinates</th>\n",
       "      <th>room_type</th>\n",
       "      <th>price</th>\n",
       "      <th>number_of_reviews</th>\n",
       "      <th>last_review</th>\n",
       "      <th>reviews_per_month</th>\n",
       "      <th>availability_365</th>\n",
       "      <th>rating</th>\n",
       "      <th>number_of_stays</th>\n",
       "      <th>5_stars</th>\n",
       "      <th>listing_added</th>\n",
       "    </tr>\n",
       "  </thead>\n",
       "  <tbody>\n",
       "    <tr>\n",
       "      <th>0</th>\n",
       "      <td>13740704</td>\n",
       "      <td>Cozy,budget friendly, cable inc, private entra...</td>\n",
       "      <td>20583125</td>\n",
       "      <td>Michel</td>\n",
       "      <td>Brooklyn, Flatlands</td>\n",
       "      <td>(40.63222, -73.93398)</td>\n",
       "      <td>Private room</td>\n",
       "      <td>45$</td>\n",
       "      <td>10</td>\n",
       "      <td>2018-12-12</td>\n",
       "      <td>0.70</td>\n",
       "      <td>85</td>\n",
       "      <td>4.100954</td>\n",
       "      <td>12.0</td>\n",
       "      <td>0.609432</td>\n",
       "      <td>2018-06-08</td>\n",
       "    </tr>\n",
       "    <tr>\n",
       "      <th>1</th>\n",
       "      <td>22005115</td>\n",
       "      <td>Two floor apartment near Central Park</td>\n",
       "      <td>82746113</td>\n",
       "      <td>Cecilia</td>\n",
       "      <td>Manhattan, Upper West Side</td>\n",
       "      <td>(40.78761, -73.96862)</td>\n",
       "      <td>Entire home/apt</td>\n",
       "      <td>135$</td>\n",
       "      <td>1</td>\n",
       "      <td>2019-06-30</td>\n",
       "      <td>1.00</td>\n",
       "      <td>145</td>\n",
       "      <td>3.367600</td>\n",
       "      <td>1.2</td>\n",
       "      <td>0.746135</td>\n",
       "      <td>2018-12-25</td>\n",
       "    </tr>\n",
       "    <tr>\n",
       "      <th>2</th>\n",
       "      <td>21667615</td>\n",
       "      <td>Beautiful 1BR in Brooklyn Heights</td>\n",
       "      <td>78251</td>\n",
       "      <td>Leslie</td>\n",
       "      <td>Brooklyn, Brooklyn Heights</td>\n",
       "      <td>(40.7007, -73.99517)</td>\n",
       "      <td>Entire home/apt</td>\n",
       "      <td>150$</td>\n",
       "      <td>0</td>\n",
       "      <td>NaN</td>\n",
       "      <td>NaN</td>\n",
       "      <td>65</td>\n",
       "      <td>NaN</td>\n",
       "      <td>NaN</td>\n",
       "      <td>NaN</td>\n",
       "      <td>2018-08-15</td>\n",
       "    </tr>\n",
       "    <tr>\n",
       "      <th>3</th>\n",
       "      <td>6425850</td>\n",
       "      <td>Spacious, charming studio</td>\n",
       "      <td>32715865</td>\n",
       "      <td>Yelena</td>\n",
       "      <td>Manhattan, Upper West Side</td>\n",
       "      <td>(40.79169, -73.97498)</td>\n",
       "      <td>Entire home/apt</td>\n",
       "      <td>86$</td>\n",
       "      <td>5</td>\n",
       "      <td>2017-09-23</td>\n",
       "      <td>0.13</td>\n",
       "      <td>0</td>\n",
       "      <td>4.763203</td>\n",
       "      <td>6.0</td>\n",
       "      <td>0.769947</td>\n",
       "      <td>2017-03-20</td>\n",
       "    </tr>\n",
       "    <tr>\n",
       "      <th>4</th>\n",
       "      <td>22986519</td>\n",
       "      <td>Bedroom on the lively Lower East Side</td>\n",
       "      <td>154262349</td>\n",
       "      <td>Brooke</td>\n",
       "      <td>Manhattan, Lower East Side</td>\n",
       "      <td>(40.71884, -73.98354)</td>\n",
       "      <td>Private room</td>\n",
       "      <td>160$</td>\n",
       "      <td>23</td>\n",
       "      <td>2019-06-12</td>\n",
       "      <td>2.29</td>\n",
       "      <td>102</td>\n",
       "      <td>3.822591</td>\n",
       "      <td>27.6</td>\n",
       "      <td>0.649383</td>\n",
       "      <td>2020-10-23</td>\n",
       "    </tr>\n",
       "  </tbody>\n",
       "</table>\n",
       "</div>"
      ],
      "text/plain": [
       "   listing_id                                               name    host_id  \\\n",
       "0    13740704  Cozy,budget friendly, cable inc, private entra...   20583125   \n",
       "1    22005115              Two floor apartment near Central Park   82746113   \n",
       "2    21667615                  Beautiful 1BR in Brooklyn Heights      78251   \n",
       "3     6425850                          Spacious, charming studio   32715865   \n",
       "4    22986519              Bedroom on the lively Lower East Side  154262349   \n",
       "\n",
       "  host_name          neighbourhood_full            coordinates  \\\n",
       "0    Michel         Brooklyn, Flatlands  (40.63222, -73.93398)   \n",
       "1   Cecilia  Manhattan, Upper West Side  (40.78761, -73.96862)   \n",
       "2    Leslie  Brooklyn, Brooklyn Heights   (40.7007, -73.99517)   \n",
       "3    Yelena  Manhattan, Upper West Side  (40.79169, -73.97498)   \n",
       "4    Brooke  Manhattan, Lower East Side  (40.71884, -73.98354)   \n",
       "\n",
       "         room_type price  number_of_reviews last_review  reviews_per_month  \\\n",
       "0     Private room   45$                 10  2018-12-12               0.70   \n",
       "1  Entire home/apt  135$                  1  2019-06-30               1.00   \n",
       "2  Entire home/apt  150$                  0         NaN                NaN   \n",
       "3  Entire home/apt   86$                  5  2017-09-23               0.13   \n",
       "4     Private room  160$                 23  2019-06-12               2.29   \n",
       "\n",
       "   availability_365    rating  number_of_stays   5_stars listing_added  \n",
       "0                85  4.100954             12.0  0.609432    2018-06-08  \n",
       "1               145  3.367600              1.2  0.746135    2018-12-25  \n",
       "2                65       NaN              NaN       NaN    2018-08-15  \n",
       "3                 0  4.763203              6.0  0.769947    2017-03-20  \n",
       "4               102  3.822591             27.6  0.649383    2020-10-23  "
      ]
     },
     "execution_count": 32,
     "metadata": {},
     "output_type": "execute_result"
    }
   ],
   "source": [
    "data = pd.read_csv(Data_3, index_col=0)\n",
    "data.head() #Análisis inicial de los datos"
   ]
  },
  {
   "cell_type": "code",
   "execution_count": 33,
   "metadata": {},
   "outputs": [
    {
     "name": "stdout",
     "output_type": "stream",
     "text": [
      "<class 'pandas.core.frame.DataFrame'>\n",
      "(10019, 16)\n"
     ]
    }
   ],
   "source": [
    "print(type(data))\n",
    "print(data.shape)"
   ]
  },
  {
   "cell_type": "markdown",
   "metadata": {},
   "source": [
    "##### **Data Types**"
   ]
  },
  {
   "cell_type": "code",
   "execution_count": 34,
   "metadata": {},
   "outputs": [
    {
     "name": "stdout",
     "output_type": "stream",
     "text": [
      "<class 'pandas.core.frame.DataFrame'>\n",
      "Index: 10019 entries, 0 to 10018\n",
      "Data columns (total 16 columns):\n",
      " #   Column              Non-Null Count  Dtype  \n",
      "---  ------              --------------  -----  \n",
      " 0   listing_id          10019 non-null  int64  \n",
      " 1   name                10014 non-null  object \n",
      " 2   host_id             10019 non-null  int64  \n",
      " 3   host_name           10017 non-null  object \n",
      " 4   neighbourhood_full  10019 non-null  object \n",
      " 5   coordinates         10019 non-null  object \n",
      " 6   room_type           10019 non-null  object \n",
      " 7   price               9781 non-null   object \n",
      " 8   number_of_reviews   10019 non-null  int64  \n",
      " 9   last_review         7944 non-null   object \n",
      " 10  reviews_per_month   7944 non-null   float64\n",
      " 11  availability_365    10019 non-null  int64  \n",
      " 12  rating              7944 non-null   float64\n",
      " 13  number_of_stays     7944 non-null   float64\n",
      " 14  5_stars             7944 non-null   float64\n",
      " 15  listing_added       10019 non-null  object \n",
      "dtypes: float64(4), int64(4), object(8)\n",
      "memory usage: 1.3+ MB\n",
      "None\n",
      "Index(['listing_id', 'name', 'host_id', 'host_name', 'neighbourhood_full',\n",
      "       'coordinates', 'room_type', 'price', 'number_of_reviews', 'last_review',\n",
      "       'reviews_per_month', 'availability_365', 'rating', 'number_of_stays',\n",
      "       '5_stars', 'listing_added'],\n",
      "      dtype='object')\n"
     ]
    }
   ],
   "source": [
    "print(data.info()) \n",
    "print(data.columns)"
   ]
  },
  {
   "cell_type": "markdown",
   "metadata": {},
   "source": [
    "##### **Statistic Summary**"
   ]
  },
  {
   "cell_type": "code",
   "execution_count": 35,
   "metadata": {},
   "outputs": [
    {
     "data": {
      "text/html": [
       "<div>\n",
       "<style scoped>\n",
       "    .dataframe tbody tr th:only-of-type {\n",
       "        vertical-align: middle;\n",
       "    }\n",
       "\n",
       "    .dataframe tbody tr th {\n",
       "        vertical-align: top;\n",
       "    }\n",
       "\n",
       "    .dataframe thead th {\n",
       "        text-align: right;\n",
       "    }\n",
       "</style>\n",
       "<table border=\"1\" class=\"dataframe\">\n",
       "  <thead>\n",
       "    <tr style=\"text-align: right;\">\n",
       "      <th></th>\n",
       "      <th>listing_id</th>\n",
       "      <th>host_id</th>\n",
       "      <th>number_of_reviews</th>\n",
       "      <th>reviews_per_month</th>\n",
       "      <th>availability_365</th>\n",
       "      <th>rating</th>\n",
       "      <th>number_of_stays</th>\n",
       "      <th>5_stars</th>\n",
       "    </tr>\n",
       "  </thead>\n",
       "  <tbody>\n",
       "    <tr>\n",
       "      <th>count</th>\n",
       "      <td>1.001900e+04</td>\n",
       "      <td>1.001900e+04</td>\n",
       "      <td>10019.000000</td>\n",
       "      <td>7944.000000</td>\n",
       "      <td>10019.000000</td>\n",
       "      <td>7944.000000</td>\n",
       "      <td>7944.000000</td>\n",
       "      <td>7944.000000</td>\n",
       "    </tr>\n",
       "    <tr>\n",
       "      <th>mean</th>\n",
       "      <td>1.927634e+07</td>\n",
       "      <td>6.795923e+07</td>\n",
       "      <td>22.459727</td>\n",
       "      <td>1.353894</td>\n",
       "      <td>112.284260</td>\n",
       "      <td>4.014458</td>\n",
       "      <td>33.991541</td>\n",
       "      <td>0.718599</td>\n",
       "    </tr>\n",
       "    <tr>\n",
       "      <th>std</th>\n",
       "      <td>1.095056e+07</td>\n",
       "      <td>7.863106e+07</td>\n",
       "      <td>43.173896</td>\n",
       "      <td>1.615380</td>\n",
       "      <td>131.636043</td>\n",
       "      <td>0.575064</td>\n",
       "      <td>56.089279</td>\n",
       "      <td>0.079978</td>\n",
       "    </tr>\n",
       "    <tr>\n",
       "      <th>min</th>\n",
       "      <td>3.831000e+03</td>\n",
       "      <td>2.787000e+03</td>\n",
       "      <td>0.000000</td>\n",
       "      <td>0.010000</td>\n",
       "      <td>0.000000</td>\n",
       "      <td>3.000633</td>\n",
       "      <td>1.200000</td>\n",
       "      <td>0.600026</td>\n",
       "    </tr>\n",
       "    <tr>\n",
       "      <th>25%</th>\n",
       "      <td>9.674772e+06</td>\n",
       "      <td>7.910880e+06</td>\n",
       "      <td>1.000000</td>\n",
       "      <td>0.200000</td>\n",
       "      <td>0.000000</td>\n",
       "      <td>3.520443</td>\n",
       "      <td>3.600000</td>\n",
       "      <td>0.655576</td>\n",
       "    </tr>\n",
       "    <tr>\n",
       "      <th>50%</th>\n",
       "      <td>2.007030e+07</td>\n",
       "      <td>3.165167e+07</td>\n",
       "      <td>5.000000</td>\n",
       "      <td>0.710000</td>\n",
       "      <td>44.000000</td>\n",
       "      <td>4.027965</td>\n",
       "      <td>10.800000</td>\n",
       "      <td>0.709768</td>\n",
       "    </tr>\n",
       "    <tr>\n",
       "      <th>75%</th>\n",
       "      <td>2.933864e+07</td>\n",
       "      <td>1.074344e+08</td>\n",
       "      <td>22.000000</td>\n",
       "      <td>2.000000</td>\n",
       "      <td>226.000000</td>\n",
       "      <td>4.516378</td>\n",
       "      <td>38.400000</td>\n",
       "      <td>0.763978</td>\n",
       "    </tr>\n",
       "    <tr>\n",
       "      <th>max</th>\n",
       "      <td>3.648724e+07</td>\n",
       "      <td>2.741034e+08</td>\n",
       "      <td>510.000000</td>\n",
       "      <td>16.220000</td>\n",
       "      <td>365.000000</td>\n",
       "      <td>5.181114</td>\n",
       "      <td>612.000000</td>\n",
       "      <td>0.950339</td>\n",
       "    </tr>\n",
       "  </tbody>\n",
       "</table>\n",
       "</div>"
      ],
      "text/plain": [
       "         listing_id       host_id  number_of_reviews  reviews_per_month  \\\n",
       "count  1.001900e+04  1.001900e+04       10019.000000        7944.000000   \n",
       "mean   1.927634e+07  6.795923e+07          22.459727           1.353894   \n",
       "std    1.095056e+07  7.863106e+07          43.173896           1.615380   \n",
       "min    3.831000e+03  2.787000e+03           0.000000           0.010000   \n",
       "25%    9.674772e+06  7.910880e+06           1.000000           0.200000   \n",
       "50%    2.007030e+07  3.165167e+07           5.000000           0.710000   \n",
       "75%    2.933864e+07  1.074344e+08          22.000000           2.000000   \n",
       "max    3.648724e+07  2.741034e+08         510.000000          16.220000   \n",
       "\n",
       "       availability_365       rating  number_of_stays      5_stars  \n",
       "count      10019.000000  7944.000000      7944.000000  7944.000000  \n",
       "mean         112.284260     4.014458        33.991541     0.718599  \n",
       "std          131.636043     0.575064        56.089279     0.079978  \n",
       "min            0.000000     3.000633         1.200000     0.600026  \n",
       "25%            0.000000     3.520443         3.600000     0.655576  \n",
       "50%           44.000000     4.027965        10.800000     0.709768  \n",
       "75%          226.000000     4.516378        38.400000     0.763978  \n",
       "max          365.000000     5.181114       612.000000     0.950339  "
      ]
     },
     "execution_count": 35,
     "metadata": {},
     "output_type": "execute_result"
    }
   ],
   "source": [
    "data.describe()"
   ]
  },
  {
   "cell_type": "markdown",
   "metadata": {},
   "source": [
    "##### **Missing Data**"
   ]
  },
  {
   "cell_type": "code",
   "execution_count": 36,
   "metadata": {},
   "outputs": [
    {
     "data": {
      "text/plain": [
       "listing_id               0\n",
       "name                     5\n",
       "host_id                  0\n",
       "host_name                2\n",
       "neighbourhood_full       0\n",
       "coordinates              0\n",
       "room_type                0\n",
       "price                  238\n",
       "number_of_reviews        0\n",
       "last_review           2075\n",
       "reviews_per_month     2075\n",
       "availability_365         0\n",
       "rating                2075\n",
       "number_of_stays       2075\n",
       "5_stars               2075\n",
       "listing_added            0\n",
       "dtype: int64"
      ]
     },
     "execution_count": 36,
     "metadata": {},
     "output_type": "execute_result"
    }
   ],
   "source": [
    "data.isna().sum() #Búsqueda de los valores faltantes entre las observaciones "
   ]
  },
  {
   "cell_type": "markdown",
   "metadata": {},
   "source": [
    "Dentro de room_types el que más aparece es la casa completa y el apartamento, por otro lado la que menos aparece es el cuarto privado"
   ]
  },
  {
   "cell_type": "markdown",
   "metadata": {},
   "source": [
    "### **Cleaning Data**"
   ]
  },
  {
   "cell_type": "code",
   "execution_count": 37,
   "metadata": {},
   "outputs": [],
   "source": [
    "data['coordinates']=data['coordinates'].str.strip('( )') #Remover paréntesis\n",
    "\n",
    "data[['latitud', 'longitud']] = data['coordinates'].str.split(',', expand=True) #Separación de latitud y longitud en dos columnas distintas\n",
    "\n",
    "\n",
    "#Converción en valores flotantes por la naturaleza de los datos\n",
    "data[['latitud','longitud']] = data[['latitud','longitud']].astype('float')\n",
    "data.drop(columns='coordinates',inplace=True)"
   ]
  },
  {
   "cell_type": "code",
   "execution_count": 38,
   "metadata": {},
   "outputs": [
    {
     "data": {
      "text/plain": [
       "150.90512217564665"
      ]
     },
     "execution_count": 38,
     "metadata": {},
     "output_type": "execute_result"
    }
   ],
   "source": [
    "data['price']=data['price'].str.strip('$') #Quitar '$' de la columna price\n",
    "data['price']=data['price'].astype('float') #Converción a valor flotante \n",
    "data['price'].mean() #Cálculo de la media"
   ]
  },
  {
   "cell_type": "markdown",
   "metadata": {},
   "source": [
    "Como se pude notar la media esta dentro de los 150"
   ]
  },
  {
   "cell_type": "code",
   "execution_count": 39,
   "metadata": {},
   "outputs": [
    {
     "name": "stderr",
     "output_type": "stream",
     "text": [
      "/var/folders/69/jwsf57w1749ds3vdzqhr26xm0000gn/T/ipykernel_80803/2292043494.py:1: UserWarning: The argument 'infer_datetime_format' is deprecated and will be removed in a future version. A strict version of it is now the default, see https://pandas.pydata.org/pdeps/0004-consistent-to-datetime-parsing.html. You can safely remove this argument.\n",
      "  data['listing_added']= pd.to_datetime(data['listing_added'],\n"
     ]
    }
   ],
   "source": [
    "data['listing_added']= pd.to_datetime(data['listing_added'],\n",
    "                                        infer_datetime_format=True,\n",
    "                                        errors='coerce')"
   ]
  },
  {
   "cell_type": "code",
   "execution_count": 40,
   "metadata": {},
   "outputs": [
    {
     "name": "stdout",
     "output_type": "stream",
     "text": [
      "<class 'pandas.core.frame.DataFrame'>\n",
      "Index: 10019 entries, 0 to 10018\n",
      "Data columns (total 17 columns):\n",
      " #   Column              Non-Null Count  Dtype         \n",
      "---  ------              --------------  -----         \n",
      " 0   listing_id          10019 non-null  int64         \n",
      " 1   name                10014 non-null  object        \n",
      " 2   host_id             10019 non-null  int64         \n",
      " 3   host_name           10017 non-null  object        \n",
      " 4   neighbourhood_full  10019 non-null  object        \n",
      " 5   room_type           10019 non-null  object        \n",
      " 6   price               9781 non-null   float64       \n",
      " 7   number_of_reviews   10019 non-null  int64         \n",
      " 8   last_review         7944 non-null   object        \n",
      " 9   reviews_per_month   7944 non-null   float64       \n",
      " 10  availability_365    10019 non-null  int64         \n",
      " 11  rating              7944 non-null   float64       \n",
      " 12  number_of_stays     7944 non-null   float64       \n",
      " 13  5_stars             7944 non-null   float64       \n",
      " 14  listing_added       10019 non-null  datetime64[ns]\n",
      " 15  latitud             10019 non-null  float64       \n",
      " 16  longitud            10019 non-null  float64       \n",
      "dtypes: datetime64[ns](1), float64(7), int64(4), object(5)\n",
      "memory usage: 1.4+ MB\n"
     ]
    }
   ],
   "source": [
    "data.info()"
   ]
  },
  {
   "cell_type": "markdown",
   "metadata": {},
   "source": [
    "Ahora podemo apreciar  los cambios hechos, aun así en ciertas columnas puede cambiarse el Dtype a algo distinto al objeto."
   ]
  },
  {
   "cell_type": "markdown",
   "metadata": {},
   "source": [
    "### **Consistency**"
   ]
  },
  {
   "cell_type": "code",
   "execution_count": 41,
   "metadata": {},
   "outputs": [
    {
     "name": "stdout",
     "output_type": "stream",
     "text": [
      "['Private room' 'Entire home/apt' 'Private' 'Shared room' 'PRIVATE ROOM'\n",
      " 'home' '   Shared room      ']\n"
     ]
    },
    {
     "data": {
      "text/plain": [
       "room_type\n",
       "Entire home/apt         5120\n",
       "Private room            4487\n",
       "Shared room              155\n",
       "Private                   89\n",
       "   Shared room            71\n",
       "home                      66\n",
       "PRIVATE ROOM              31\n",
       "Name: count, dtype: int64"
      ]
     },
     "execution_count": 41,
     "metadata": {},
     "output_type": "execute_result"
    }
   ],
   "source": [
    "#Cálculo los calores únicos de room_type\n",
    "unique_room_types = data['room_type'].unique()\n",
    "print(unique_room_types)\n",
    "#Cálculo de la cantidad de diferentes tipos de habitaciones\n",
    "data['room_type'].value_counts()"
   ]
  },
  {
   "cell_type": "code",
   "execution_count": 42,
   "metadata": {},
   "outputs": [
    {
     "name": "stdout",
     "output_type": "stream",
     "text": [
      "     listing_id                                               name    host_id  \\\n",
      "4      22986519              Bedroom on the lively Lower East Side  154262349   \n",
      "50     20783900     Marvelous Manhattan Marble Hill Private Suites  148960265   \n",
      "60      1908852                Oversized Studio By Columbus Circle     684629   \n",
      "124    28659894  Private bedroom in prime Bushwick! Near Trains!!!  216235179   \n",
      "511    33619855          Modern & Spacious in trendy Crown Heights  253354074   \n",
      "521    25317793       Awesome Cozy Room in The Heart of Sunnyside!  136406167   \n",
      "\n",
      "    host_name          neighbourhood_full        room_type  price  \\\n",
      "4      Brooke  Manhattan, Lower East Side     Private room  160.0   \n",
      "50      Randy      Manhattan, Marble Hill     Private room   93.0   \n",
      "60      Alana  Manhattan, Upper West Side  Entire home/apt  189.0   \n",
      "124      Nina          Brooklyn, Bushwick     Private room   55.0   \n",
      "511   Yehudis     Brooklyn, Crown Heights             home  150.0   \n",
      "521      Kara           Queens, Sunnyside     Private room   65.0   \n",
      "\n",
      "     number_of_reviews last_review  reviews_per_month  availability_365  \\\n",
      "4                   23  2019-06-12               2.29               102   \n",
      "50                   7  2018-10-06               0.32                 0   \n",
      "60                   7  2016-05-06               0.13                 0   \n",
      "124                  4  2019-04-12               0.58               358   \n",
      "511                  6  2019-05-27               2.50               148   \n",
      "521                 22  2019-06-11               1.63               131   \n",
      "\n",
      "       rating  number_of_stays   5_stars listing_added   latitud  longitud  \n",
      "4    3.822591             27.6  0.649383    2020-10-23  40.71884 -73.98354  \n",
      "50   4.868036              8.4  0.609263    2020-02-17  40.87618 -73.91266  \n",
      "60   4.841204              8.4  0.725995    2017-09-17  40.77060 -73.98919  \n",
      "124  4.916252              4.8  0.703117    2020-08-23  40.69988 -73.92072  \n",
      "511  3.462432              7.2  0.610929    2020-10-07  40.66387 -73.93840  \n",
      "521  4.442485             26.4  0.722388    2020-10-22  40.74090 -73.92696  \n"
     ]
    }
   ],
   "source": [
    "#listing_added > last_review\n",
    "inconsistent_dates = data[data['listing_added'] > data['last_review']]\n",
    "print(inconsistent_dates)"
   ]
  },
  {
   "cell_type": "code",
   "execution_count": 43,
   "metadata": {},
   "outputs": [],
   "source": [
    "#room_type valores capitalizados\n",
    "data['room_type'] = data['room_type'].str.capitalize()\n",
    "#room_type espacios finales\n",
    "data['room_type'] = data['room_type'].str.strip()\n",
    "#Reemplazo de valores de cuarto compartido, cuarto privado, cuarto de horal y espacio entero, solo si aplica\n",
    "data['room_type'] = data['room_type'].replace({\n",
    "    'Shared': 'Shared room',\n",
    "    'Entire home/apt': 'Entire place',\n",
    "    'Private room ': 'Private room',  # Remoción de espacio extra\n",
    "    'Hotel room': 'Hotel room'\n",
    "})"
   ]
  },
  {
   "cell_type": "code",
   "execution_count": 44,
   "metadata": {},
   "outputs": [],
   "source": [
    "#Divición de la columna de neighbourhood_full en dos y limpieza\n",
    "data[['borough', 'neighbourhood']] = data['neighbourhood_full'].str.split(',', expand=True)\n",
    "data['borough'] = data['borough'].str.strip()\n",
    "data['neighbourhood'] = data['neighbourhood'].str.strip()"
   ]
  },
  {
   "cell_type": "code",
   "execution_count": 45,
   "metadata": {},
   "outputs": [
    {
     "name": "stdout",
     "output_type": "stream",
     "text": [
      "Unique Boroughs: ['Brooklyn' 'Manhattan' 'Queens' 'Bronx' 'Staten Island']\n",
      "Unique Neighbourhoods: ['Flatlands' 'Upper West Side' 'Brooklyn Heights' 'Lower East Side'\n",
      " 'Greenwich Village' 'Harlem' 'Sheepshead Bay' 'Theater District'\n",
      " 'Bushwick' 'Laurelton' 'Mott Haven' 'Flushing' 'Crown Heights' 'Midtown'\n",
      " 'Financial District' 'East Village' 'Park Slope' 'Washington Heights'\n",
      " 'Williamsburg' 'Chelsea' 'Bedford-Stuyvesant' 'Gowanus' 'Upper East Side'\n",
      " 'Ditmars Steinway' 'Cypress Hills' \"Hell's Kitchen\" 'Ridgewood'\n",
      " 'Marble Hill' 'Kips Bay' 'Prospect Heights' 'East New York' 'Concord'\n",
      " 'Stapleton' 'Astoria' 'East Harlem' 'Sunnyside' 'Gramercy'\n",
      " 'Prospect-Lefferts Gardens' 'Sunset Park' 'Forest Hills'\n",
      " 'Windsor Terrace' 'Clinton Hill' 'Murray Hill' 'Flatiron District'\n",
      " 'Greenpoint' 'East Flatbush' 'Tribeca' 'Woodhaven' 'Fort Greene' 'Inwood'\n",
      " 'Chinatown' 'Rockaway Beach' 'Woodside' 'Bayside' 'Bensonhurst' 'SoHo'\n",
      " 'Red Hook' 'West Village' 'South Slope' 'Richmond Hill' 'Jamaica'\n",
      " 'Boerum Hill' 'St. George' 'Clason Point' 'College Point' 'Vinegar Hill'\n",
      " 'Rego Park' 'East Elmhurst' 'Kensington' 'Roosevelt Island' 'Ozone Park'\n",
      " 'Arverne' 'Fordham' 'Wakefield' 'Port Morris' 'Flatbush' 'Elmhurst'\n",
      " 'Bay Ridge' 'Canarsie' 'Little Italy' 'Civic Center' 'St. Albans'\n",
      " 'Morningside Heights' 'Morrisania' 'Two Bridges' 'Concourse'\n",
      " 'Downtown Brooklyn' 'Queens Village' 'Fieldston' 'Allerton' 'Grymes Hill'\n",
      " 'Carroll Gardens' 'Kingsbridge' 'Belle Harbor' 'NoHo' 'Maspeth'\n",
      " 'Borough Park' 'Midwood' 'Fresh Meadows' 'Battery Park City' 'Pelham Bay'\n",
      " 'Van Nest' 'Long Island City' 'Williamsbridge' 'Nolita' 'Kew Gardens'\n",
      " 'Corona' 'Middle Village' 'Jackson Heights' 'Gravesend' 'New Dorp Beach'\n",
      " 'Brighton Beach' 'Belmont' 'Eltingville' 'South Ozone Park'\n",
      " 'Stuyvesant Town' 'Far Rockaway' 'Longwood' 'Glendale' 'Dongan Hills'\n",
      " 'Hollis' 'Columbia St' 'Tompkinsville' 'Springfield Gardens'\n",
      " 'Concourse Village' 'Throgs Neck' 'Cobble Hill' 'South Beach'\n",
      " 'North Riverdale' 'Rosedale' 'Mount Hope' 'Edenwald' 'Parkchester'\n",
      " 'Mill Basin' 'Brownsville' 'Fort Hamilton' 'Howard Beach'\n",
      " 'Claremont Village' 'Pelham Gardens' 'Westchester Square'\n",
      " 'Kew Gardens Hills' 'Arrochar' 'Edgemere' 'Shore Acres' 'Dyker Heights'\n",
      " 'Mount Eden' 'Randall Manor' 'Jamaica Hills' 'Norwood' 'Tottenville'\n",
      " 'Cambria Heights' 'East Morrisania' 'Soundview' 'Morris Park' 'Bronxdale'\n",
      " 'Bellerose' 'Navy Yard' 'Unionport' 'DUMBO' 'Bayswater' 'Tremont'\n",
      " 'Highbridge' 'Graniteville' 'Baychester' 'Morris Heights' 'Coney Island'\n",
      " 'Briarwood' 'West Farms' \"Prince's Bay\" 'University Heights' 'Clifton'\n",
      " 'Bay Terrace' 'City Island' 'West Brighton' 'Douglaston' 'Schuylerville'\n",
      " 'Port Richmond' 'Oakwood' 'Westerleigh' 'Little Neck' 'Holliswood'\n",
      " 'Bergen Beach' 'Castle Hill' 'Olinville' 'Rosebank' 'Melrose'\n",
      " 'Whitestone' 'Grant City' 'Riverdale' 'Neponsit' 'Bath Beach'\n",
      " 'Mariners Harbor' 'Hunts Point' 'Great Kills' 'Midland Beach'\n",
      " 'Eastchester' 'Jamaica Estates' 'New Springville']\n"
     ]
    }
   ],
   "source": [
    "#Drop a neighbourhood_full\n",
    "data.drop(columns='neighbourhood_full', inplace=True)\n",
    "#Cálculo los calores únicos de borough y neighbourhood\n",
    "unique_boroughs = data['borough'].unique()\n",
    "unique_neighbourhoods = data['neighbourhood'].unique()\n",
    "print(\"Unique Boroughs:\", unique_boroughs)\n",
    "print(\"Unique Neighbourhoods:\", unique_neighbourhoods)"
   ]
  },
  {
   "cell_type": "code",
   "execution_count": 46,
   "metadata": {},
   "outputs": [],
   "source": [
    "#Espacios en blanco de neighbourhood\n",
    "data['neighbourhood'] = data['neighbourhood'].str.strip()\n",
    "#Establecer el máximo para la columna de rating\n",
    "data['rating'] = data['rating'].clip(0, 5)\n",
    "#Los que sobrepasen este límite se les aplica drop\n",
    "rating_out_of_range = data[data['rating'] > 5.0]\n",
    "data.drop(rating_out_of_range.index, inplace=True)"
   ]
  },
  {
   "cell_type": "markdown",
   "metadata": {},
   "source": [
    "##### **Histograma**"
   ]
  },
  {
   "cell_type": "code",
   "execution_count": 47,
   "metadata": {},
   "outputs": [
    {
     "data": {
      "image/png": "[encoded data removed]",
      "text/plain": [
       "<Figure size 640x480 with 1 Axes>"
      ]
     },
     "metadata": {},
     "output_type": "display_data"
    }
   ],
   "source": [
    "#Vemos el histograma de la columna rating\n",
    "sns.histplot(data['rating'], bins=20, kde=True)\n",
    "plt.xlabel('Rating')\n",
    "plt.ylabel('Count')\n",
    "plt.title('Rating Distribution')\n",
    "plt.show()"
   ]
  },
  {
   "cell_type": "code",
   "execution_count": 48,
   "metadata": {},
   "outputs": [
    {
     "name": "stdout",
     "output_type": "stream",
     "text": [
      "Maximum Rating: 5.0\n"
     ]
    }
   ],
   "source": [
    "#Obtención del máximo valor de rating\n",
    "print(\"Maximum Rating:\", data['rating'].max())"
   ]
  },
  {
   "cell_type": "markdown",
   "metadata": {},
   "source": [
    "### **Datos Duplicados**"
   ]
  },
  {
   "cell_type": "code",
   "execution_count": 49,
   "metadata": {},
   "outputs": [],
   "source": [
    "#Find duplicates\n",
    "duplicates = data[data.duplicated(keep=False)]"
   ]
  },
  {
   "cell_type": "code",
   "execution_count": 52,
   "metadata": {},
   "outputs": [],
   "source": [
    "#Remove identical duplicates\n",
    "data.drop_duplicates(inplace=True)"
   ]
  },
  {
   "cell_type": "code",
   "execution_count": 55,
   "metadata": {},
   "outputs": [
    {
     "name": "stdout",
     "output_type": "stream",
     "text": [
      "Identical Duplicates:\n",
      "      listing_id                                               name  \\\n",
      "368     17861841                             THE CREATIVE COZY ROOM   \n",
      "1145      253806                   Loft Suite @ The Box House Hotel   \n",
      "1338    32610834                            Manhattan by the water!   \n",
      "1658    35646737                Private Cabins @ Chelsea, Manhattan   \n",
      "2118    33346762              2BR Apartment in Brownstone Brooklyn!   \n",
      "3007    17861841                             THE CREATIVE COZY ROOM   \n",
      "3065    16518377        East Village 1BR Apt with all the amenities   \n",
      "3340    35646737                Private Cabins @ Chelsea, Manhattan   \n",
      "5025    33831116  Sonder | Stock Exchange | Collected 1BR + Laundry   \n",
      "5077    33831116  Sonder | Stock Exchange | Collected 1BR + Laundry   \n",
      "5236    29844951                                Cozy Home In Queens   \n",
      "5246    22014840       Sunny Bedroom Only 1 Metro Stop to Manhattan   \n",
      "5251    19477677                    Huge sunny room next to subway!   \n",
      "5397    16518377        East Village 1BR Apt with all the amenities   \n",
      "5454    21106251        Private Bedroom in Great Brooklyn Apartment   \n",
      "5861    23990868                       1 Bedroom in Luxury Building   \n",
      "6068    22014840       Sunny Bedroom Only 1 Metro Stop to Manhattan   \n",
      "6085    33346762              2BR Apartment in Brownstone Brooklyn!   \n",
      "6132    23990868                       1 Bedroom in Luxury Building   \n",
      "6313    32610834                            Manhattan by the water!   \n",
      "6438    19477677                    Huge sunny room next to subway!   \n",
      "6562      253806                   Loft Suite @ The Box House Hotel   \n",
      "6832    21106251        Private Bedroom in Great Brooklyn Apartment   \n",
      "7116    26554879                     East Village/Union Square Flat   \n",
      "7769    26554879                     East Village/Union Square Flat   \n",
      "9425    29844951                                Cozy Home In Queens   \n",
      "\n",
      "        host_id            host_name     room_type  price  number_of_reviews  \\\n",
      "368    47591528              Janessa  Private room   99.0                 13   \n",
      "1145     417504  The Box House Hotel  Entire place  199.0                 43   \n",
      "1338   12132369                 Omar  Entire place  150.0                  0   \n",
      "1658  117365574                Maria  Private room   85.0                  1   \n",
      "2118   50321289                Avery  Entire place  140.0                  4   \n",
      "3007   47591528              Janessa  Private room   99.0                 13   \n",
      "3065    3012457                 Cody  Entire place  200.0                  3   \n",
      "3340  117365574                Maria  Private room   85.0                  1   \n",
      "5025  219517861         Sonder (NYC)  Entire place  229.0                  5   \n",
      "5077  219517861         Sonder (NYC)  Entire place  229.0                  5   \n",
      "5236   49946447                  Rah  Private room   50.0                  1   \n",
      "5246   32093643             Scarlett  Private room   70.0                  2   \n",
      "5251   25038748               Justin  Private room   70.0                 11   \n",
      "5397    3012457                 Cody  Entire place  200.0                  3   \n",
      "5454   25354313                Tommy  Private room   45.0                  9   \n",
      "5861    4447548                Grace  Entire place   88.0                  8   \n",
      "6068   32093643             Scarlett  Private room   70.0                  2   \n",
      "6085   50321289                Avery  Entire place  140.0                  4   \n",
      "6132    4447548                Grace  Entire place   88.0                  8   \n",
      "6313   12132369                 Omar  Entire place  150.0                  0   \n",
      "6438   25038748               Justin  Private room   70.0                 11   \n",
      "6562     417504  The Box House Hotel  Entire place  199.0                 43   \n",
      "6832   25354313                Tommy  Private room   45.0                  9   \n",
      "7116   17400431                  Bob  Entire place  179.0                 32   \n",
      "7769   17400431                  Bob  Entire place  179.0                 32   \n",
      "9425   49946447                  Rah  Private room   50.0                  1   \n",
      "\n",
      "     last_review  reviews_per_month  availability_365    rating  \\\n",
      "368   2019-05-23               0.52                82  4.806590   \n",
      "1145  2019-07-02               0.47                60  4.620238   \n",
      "1338         NaN                NaN                 9       NaN   \n",
      "1658  2019-06-22               1.00               261  4.951714   \n",
      "2118  2019-06-14               1.58                 4  4.013393   \n",
      "3007  2019-05-23               0.52                82  4.806590   \n",
      "3065  2018-07-10               0.16                 0  4.676670   \n",
      "3340  2019-06-22               1.00               261  4.951714   \n",
      "5025  2019-06-15               1.92               350  4.026379   \n",
      "5077  2019-06-15               1.92               350  4.026379   \n",
      "5236  2019-03-19               0.27               311  4.792923   \n",
      "5246  2018-01-07               0.11                 0  4.024336   \n",
      "5251  2019-05-11               0.45                 0  3.074890   \n",
      "5397  2018-07-10               0.16                 0  4.676670   \n",
      "5454  2019-06-22               0.43                 0  3.779114   \n",
      "5861  2019-06-16               0.56                18  4.164548   \n",
      "6068  2018-01-07               0.11                 0  4.024336   \n",
      "6085  2019-06-14               1.58                 4  4.013393   \n",
      "6132  2019-06-16               0.56                18  4.164548   \n",
      "6313         NaN                NaN                 9       NaN   \n",
      "6438  2019-05-11               0.45                 0  3.074890   \n",
      "6562  2019-07-02               0.47                60  4.620238   \n",
      "6832  2019-06-22               0.43                 0  3.779114   \n",
      "7116  2019-06-26               2.92                12  3.125513   \n",
      "7769  2019-06-26               2.92                12  3.125513   \n",
      "9425  2019-03-19               0.27               311  4.792923   \n",
      "\n",
      "      number_of_stays   5_stars listing_added   latitud  longitud    borough  \\\n",
      "368              15.6  0.937422    2018-11-17  40.59211 -73.94127   Brooklyn   \n",
      "1145             51.6  0.861086    2018-12-27  40.73652 -73.95236   Brooklyn   \n",
      "1338              NaN       NaN    2018-06-28  40.73767 -73.97384  Manhattan   \n",
      "1658              1.2  0.671388    2018-12-17  40.74946 -73.99627  Manhattan   \n",
      "2118              4.8  0.719591    2018-12-09  40.68200 -73.95681   Brooklyn   \n",
      "3007             15.6  0.937422    2018-11-17  40.59211 -73.94127   Brooklyn   \n",
      "3065              3.6  0.694443    2018-01-04  40.72350 -73.97963  Manhattan   \n",
      "3340              1.2  0.671388    2018-12-17  40.74946 -73.99627  Manhattan   \n",
      "5025              6.0  0.601737    2018-12-10  40.70621 -74.01199  Manhattan   \n",
      "5077              6.0  0.601737    2018-12-10  40.70621 -74.01199  Manhattan   \n",
      "5236              1.2  0.701232    2018-09-13  40.68842 -73.77677     Queens   \n",
      "5246              2.4  0.719426    2017-07-04  40.76211 -73.94887  Manhattan   \n",
      "5251             13.2  0.631619    2018-11-05  40.82119 -73.95583  Manhattan   \n",
      "5397              3.6  0.694443    2018-01-04  40.72350 -73.97963  Manhattan   \n",
      "5454             10.8  0.738191    2018-12-17  40.67359 -73.95812   Brooklyn   \n",
      "5861              9.6  0.640106    2018-12-11  40.69336 -73.94453   Brooklyn   \n",
      "6068              2.4  0.719426    2017-07-04  40.76211 -73.94887  Manhattan   \n",
      "6085              4.8  0.719591    2018-12-09  40.68200 -73.95681   Brooklyn   \n",
      "6132              9.6  0.640106    2018-12-11  40.69336 -73.94453   Brooklyn   \n",
      "6313              NaN       NaN    2018-06-28  40.73767 -73.97384  Manhattan   \n",
      "6438             13.2  0.631619    2018-11-05  40.82119 -73.95583  Manhattan   \n",
      "6562             51.6  0.861086    2018-12-27  40.73652 -73.95236   Brooklyn   \n",
      "6832             10.8  0.738191    2018-12-17  40.67359 -73.95812   Brooklyn   \n",
      "7116             38.4  0.631764    2018-12-21  40.73177 -73.98691  Manhattan   \n",
      "7769             38.4  0.631764    2018-12-21  40.73177 -73.98691  Manhattan   \n",
      "9425              1.2  0.701232    2018-09-13  40.68842 -73.77677     Queens   \n",
      "\n",
      "           neighbourhood  \n",
      "368       Sheepshead Bay  \n",
      "1145          Greenpoint  \n",
      "1338            Kips Bay  \n",
      "1658             Chelsea  \n",
      "2118  Bedford-Stuyvesant  \n",
      "3007      Sheepshead Bay  \n",
      "3065        East Village  \n",
      "3340             Chelsea  \n",
      "5025  Financial District  \n",
      "5077  Financial District  \n",
      "5236             Jamaica  \n",
      "5246    Roosevelt Island  \n",
      "5251              Harlem  \n",
      "5397        East Village  \n",
      "5454       Crown Heights  \n",
      "5861  Bedford-Stuyvesant  \n",
      "6068    Roosevelt Island  \n",
      "6085  Bedford-Stuyvesant  \n",
      "6132  Bedford-Stuyvesant  \n",
      "6313            Kips Bay  \n",
      "6438              Harlem  \n",
      "6562          Greenpoint  \n",
      "6832       Crown Heights  \n",
      "7116        East Village  \n",
      "7769        East Village  \n",
      "9425             Jamaica  \n"
     ]
    }
   ],
   "source": [
    "#Show all duplicates\n",
    "print(\"Identical Duplicates:\")\n",
    "print(duplicates)"
   ]
  },
  {
   "cell_type": "code",
   "execution_count": 56,
   "metadata": {},
   "outputs": [
    {
     "name": "stdout",
     "output_type": "stream",
     "text": [
      "Non-Identical Duplicates:\n",
      "Empty DataFrame\n",
      "Columns: [listing_id, name, host_id, host_name, room_type, price, number_of_reviews, last_review, reviews_per_month, availability_365, rating, number_of_stays, 5_stars, listing_added, latitud, longitud, borough, neighbourhood]\n",
      "Index: []\n"
     ]
    }
   ],
   "source": [
    "# Búsqueda de duplicados no idénticos\n",
    "non_identical_duplicates = data[data.duplicated(keep=False) & ~data.duplicated(keep='first')]\n",
    "\n",
    "# Impreción de los duplicados no idénticos\n",
    "print(\"Non-Identical Duplicates:\")\n",
    "print(non_identical_duplicates)\n"
   ]
  },
  {
   "cell_type": "markdown",
   "metadata": {},
   "source": [
    "En este estudio, se aplicaron técnicas de limpieza de datos con el propósito de asegurar que el conjunto de datos contenga las propiedades necesarias para un análisis preciso y confiable. \n",
    "\n",
    "Este proceso de limpieza y estandarización ha preparado el conjunto de datos de Airbnb en Nueva York para análisis y modelado posteriores, permitiendo trabajar con información más precisa. \n",
    "\n",
    "Esto es crucial para extraer insights significativos y tomar decisiones fundamentadas en futuros proyectos de investigación y análisis de mercado. La calidad de los datos es esencial para obtener resultados precisos y confiables en cualquier análisis de datos."
   ]
  }
 ],
 "metadata": {
  "kernelspec": {
   "display_name": "Python 3",
   "language": "python",
   "name": "python3"
  },
  "language_info": {
   "codemirror_mode": {
    "name": "ipython",
    "version": 3
   },
   "file_extension": ".py",
   "mimetype": "text/x-python",
   "name": "python",
   "nbconvert_exporter": "python",
   "pygments_lexer": "ipython3",
   "version": "3.11.4"
  },
  "orig_nbformat": 4
 },
 "nbformat": 4,
 "nbformat_minor": 2
}
